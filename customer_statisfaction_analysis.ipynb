{
 "cells": [
  {
   "cell_type": "code",
   "execution_count": 2,
   "metadata": {},
   "outputs": [
    {
     "name": "stdout",
     "output_type": "stream",
     "text": [
      "   CustomerID  Age  Gender  PurchaseAmount  PurchaseFrequency  \\\n",
      "0           1   38  Female      749.097626                 24   \n",
      "1           2   30    Male      735.224916                 18   \n",
      "2           3   55    Male     1145.520305                 22   \n",
      "3           4   39  Female      925.460535                 14   \n",
      "4           5   51    Male      108.359916                  9   \n",
      "\n",
      "   ProductQualityRating  DeliveryTimeRating  CustomerServiceRating  \\\n",
      "0                     2                   1                      3   \n",
      "1                     5                   4                      4   \n",
      "2                     3                   5                      4   \n",
      "3                     4                   3                      2   \n",
      "4                     3                   3                      2   \n",
      "\n",
      "   WebsiteEaseOfUseRating  ReturnRate  DiscountUsage LoyaltyProgramMember  \n",
      "0                       5        0.12     135.392573                   No  \n",
      "1                       5        0.37     193.450663                  Yes  \n",
      "2                       1        0.10     147.246263                  Yes  \n",
      "3                       4        0.38      56.362894                  Yes  \n",
      "4                       5        0.42     338.731055                   No  \n"
     ]
    }
   ],
   "source": [
    "import pandas as pd\n",
    "\n",
    "data = pd.read_csv(\"E-commerce_NPA_Dataset.csv\")\n",
    "\n",
    "print(data.head())"
   ]
  },
  {
   "cell_type": "code",
   "execution_count": null,
   "metadata": {},
   "outputs": [],
   "source": []
  }
 ],
 "metadata": {
  "kernelspec": {
   "display_name": "Python 3",
   "language": "python",
   "name": "python3"
  },
  "language_info": {
   "codemirror_mode": {
    "name": "ipython",
    "version": 3
   },
   "file_extension": ".py",
   "mimetype": "text/x-python",
   "name": "python",
   "nbconvert_exporter": "python",
   "pygments_lexer": "ipython3",
   "version": "3.11.11"
  }
 },
 "nbformat": 4,
 "nbformat_minor": 2
}
